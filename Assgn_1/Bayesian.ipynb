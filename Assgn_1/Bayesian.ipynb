{
 "cells": [
  {
   "cell_type": "code",
   "execution_count": 368,
   "id": "f14d0d6b",
   "metadata": {},
   "outputs": [],
   "source": [
    "import pandas as pd\n",
    "import numpy as np\n",
    "import math\n",
    "from unicodedata import category\n",
    "import sys"
   ]
  },
  {
   "cell_type": "code",
   "execution_count": 369,
   "id": "5a852ccd",
   "metadata": {},
   "outputs": [],
   "source": [
    "df=pd.read_csv(\"Train_B_Bayesian.csv\")"
   ]
  },
  {
   "cell_type": "code",
   "execution_count": 370,
   "id": "080a9961",
   "metadata": {},
   "outputs": [],
   "source": [
    "def normal(x,mu,sigma):\n",
    "    return (1/(math.sqrt(2*np.pi)*sigma))*np.exp(-(((x-mu)/sigma)**2)/2)"
   ]
  },
  {
   "cell_type": "code",
   "execution_count": 371,
   "id": "fc8a084b",
   "metadata": {},
   "outputs": [],
   "source": [
    "def naive_bayes(train,test):\n",
    "    posframe=train[train['is_patient']==1]\n",
    "    negframe=train.drop(posframe.index)\n",
    "    P={}\n",
    "    N={}\n",
    "    for i in train.columns[:-2]:\n",
    "        P[i]={}\n",
    "        N[i]={}\n",
    "        if i=='gender':\n",
    "            P[i][0]=len(posframe[posframe[i]==0])/len(posframe)\n",
    "            N[i][0]=len(negframe[negframe[i]==0])/len(negframe)\n",
    "            P[i][1]=len(posframe[posframe[i]==1])/len(posframe)\n",
    "            N[i][1]=len(negframe[negframe[i]==1])/len(negframe)\n",
    "        else:\n",
    "            P[i]['mean']=posframe[i].mean()\n",
    "            P[i]['std']=posframe[i].std()\n",
    "            N[i]['mean']=negframe[i].mean()\n",
    "            N[i]['std']=negframe[i].std()\n",
    "    p1=np.zeros(len(test))\n",
    "    p2=np.zeros(len(test))\n",
    "    for i in range(0,174):\n",
    "        p_prob = 1\n",
    "        n_prob = 1\n",
    "        for j in test.columns[:-2]:\n",
    "            if j=='gender':\n",
    "                p_prob*=P[j][test[j][i]]\n",
    "                n_prob*=N[j][test[j][i]]\n",
    "            else:\n",
    "                p_prob*=normal(test[j][i],P[j]['mean'],P[j]['std'])\n",
    "                n_prob*=normal(test[j][i],N[j]['mean'],N[j]['std'])\n",
    "            p1[i]=(p_prob*len(posframe))/len(train)\n",
    "            p2[i]=(n_prob*len(posframe))/len(train)\n",
    "    return (p1,p2)"
   ]
  },
  {
   "cell_type": "code",
   "execution_count": 372,
   "id": "b9b47935",
   "metadata": {},
   "outputs": [
    {
     "name": "stdout",
     "output_type": "stream",
     "text": [
      "alkphos 209 0.9470639032815197\n",
      "alkphos 241 0.9470639032815197\n",
      "alkphos 253 0.9470639032815197\n",
      "alkphos 312 0.9470639032815197\n"
     ]
    }
   ],
   "source": [
    "S = df.isnull().sum()\n",
    "S = S[S!=0]\n",
    "for i in S.index:\n",
    "    m = df[i].mean()\n",
    "    for j in df.index:\n",
    "        if(np.isnan(df[i][j])):\n",
    "            df.loc[j,i]=m\n",
    "            print(i,j,df[i][j])\n",
    "MAX_OC=0\n",
    "for j in df.index:\n",
    "    df.loc[j,'OC']=0\n",
    "for i in df.columns[:-2]:\n",
    "    if(df[i].dtype=='object'):\n",
    "        df[i] = df[i].astype('category').cat.codes\n",
    "    m=df[i].mean()\n",
    "    s=df[i].std()\n",
    "    for j in df.index:\n",
    "        if(df[i][j]>2*m+5*s):\n",
    "            df.loc[j,'OC'] += 1\n",
    "            if(df.loc[j,'OC']>MAX_OC):\n",
    "                MAX_OC=df.loc[j,'OC']\n",
    "#print(MAX_OC)\n",
    "for j in df.index:\n",
    "    if(df.loc[j,'OC']==MAX_OC):\n",
    "        df=df.drop(j)"
   ]
  },
  {
   "cell_type": "code",
   "execution_count": 373,
   "id": "19c472db",
   "metadata": {},
   "outputs": [],
   "source": [
    "X=[]\n",
    "train=df.sample(frac=0.7)\n",
    "test=df.drop(train.index)\n",
    "test=test.reset_index(drop=True)\n",
    "T=np.array_split(train,5)\n",
    "dflist=[]\n",
    "dflist.append(pd.concat([T[1],T[2],T[3],T[4]]))\n",
    "dflist.append(pd.concat([T[0],T[2],T[3],T[4]]))\n",
    "dflist.append(pd.concat([T[0],T[1],T[3],T[4]]))\n",
    "dflist.append(pd.concat([T[0],T[1],T[2],T[4]]))\n",
    "dflist.append(pd.concat([T[0],T[1],T[2],T[3]]))"
   ]
  },
  {
   "cell_type": "code",
   "execution_count": 374,
   "id": "c5c941b5",
   "metadata": {},
   "outputs": [
    {
     "name": "stdout",
     "output_type": "stream",
     "text": [
      "Final accuracy with 5-fold cross-validation: 0.5919540229885057\n"
     ]
    }
   ],
   "source": [
    "pred1=np.zeros(len(test))\n",
    "pred2=np.zeros(len(test))\n",
    "for i in range(0,5):\n",
    "    (p1,p2)=naive_bayes(dflist[i],test)\n",
    "    pred1=pred1+p1\n",
    "    pred2=pred2+p2\n",
    "pred1=pred1/5\n",
    "pred2=pred2/5\n",
    "pred=[]\n",
    "match=0\n",
    "for i in range(0,len(test)):\n",
    "    if(pred1[i]>pred2[i]):\n",
    "        pred.append(1)\n",
    "    else:\n",
    "        pred.append(2)\n",
    "    if(pred[i]==test['is_patient'][i]):\n",
    "        match=match+1\n",
    "accuracy=match/len(test)\n",
    "print(\"Final accuracy with 5-fold cross-validation:\",accuracy)"
   ]
  },
  {
   "cell_type": "code",
   "execution_count": 375,
   "id": "d3f87bc7",
   "metadata": {},
   "outputs": [],
   "source": [
    "def naive_bayes_laplace_correction(train,test,alpha):\n",
    "    posframe=train[train['is_patient']==1]\n",
    "    negframe=train.drop(posframe.index)\n",
    "    P={}\n",
    "    N={}\n",
    "    for i in train.columns[:-2]:\n",
    "        P[i]={}\n",
    "        N[i]={}\n",
    "        if i=='gender':\n",
    "            P[i][0]=(len(posframe[posframe[i]==0])+alpha)/(len(posframe)+alpha*2)\n",
    "            N[i][0]=(len(negframe[negframe[i]==0])+alpha)/(len(negframe)+alpha*2)\n",
    "            P[i][1]=(len(posframe[posframe[i]==1])+alpha)/(len(posframe)+alpha*2)\n",
    "            N[i][1]=(len(negframe[negframe[i]==1])+alpha)/(len(negframe)+alpha*2)\n",
    "        else:\n",
    "            P[i]['mean']=posframe[i].mean()\n",
    "            P[i]['std']=posframe[i].std()\n",
    "            N[i]['mean']=negframe[i].mean()\n",
    "            N[i]['std']=negframe[i].std()\n",
    "    p1=np.zeros(len(test))\n",
    "    p2=np.zeros(len(test))\n",
    "    for i in range(0,174):\n",
    "        p_prob = 1\n",
    "        n_prob = 1\n",
    "        for j in test.columns[:-2]:\n",
    "            if j=='gender':\n",
    "                p_prob*=P[j][test[j][i]]\n",
    "                n_prob*=N[j][test[j][i]]\n",
    "            else:\n",
    "                p_prob*=normal(test[j][i],P[j]['mean'],P[j]['std'])\n",
    "                n_prob*=normal(test[j][i],N[j]['mean'],N[j]['std'])\n",
    "            p1[i]=(p_prob*len(posframe))/len(train)\n",
    "            p2[i]=(n_prob*len(posframe))/len(train)\n",
    "    return (p1,p2)"
   ]
  },
  {
   "cell_type": "code",
   "execution_count": 376,
   "id": "9c87e358",
   "metadata": {},
   "outputs": [
    {
     "name": "stdout",
     "output_type": "stream",
     "text": [
      "Final accuracy with Laplace correction= 0.5977011494252874\n"
     ]
    }
   ],
   "source": [
    "p1=np.zeros(len(test))\n",
    "p2=np.zeros(len(test))\n",
    "alpha=1\n",
    "(p1,p2)=naive_bayes_laplace_correction(train,test,alpha)\n",
    "corr=0\n",
    "prediction=[]\n",
    "for i in range(0,len(test)):\n",
    "    if(p1[i]>p2[i]):\n",
    "        prediction.append(1)\n",
    "    else:\n",
    "        prediction.append(2)\n",
    "    if(prediction[i]==test['is_patient'][i]):\n",
    "        corr=corr+1\n",
    "acc=corr/len(test)\n",
    "print(\"Final accuracy with Laplace correction=\",acc)"
   ]
  },
  {
   "cell_type": "code",
   "execution_count": null,
   "id": "025aa23e",
   "metadata": {},
   "outputs": [],
   "source": []
  }
 ],
 "metadata": {
  "kernelspec": {
   "display_name": "Python 3 (ipykernel)",
   "language": "python",
   "name": "python3"
  },
  "language_info": {
   "codemirror_mode": {
    "name": "ipython",
    "version": 3
   },
   "file_extension": ".py",
   "mimetype": "text/x-python",
   "name": "python",
   "nbconvert_exporter": "python",
   "pygments_lexer": "ipython3",
   "version": "3.9.7"
  }
 },
 "nbformat": 4,
 "nbformat_minor": 5
}
