{
 "cells": [
  {
   "cell_type": "code",
   "execution_count": 4,
   "metadata": {},
   "outputs": [],
   "source": [
    "import pandas as pd\n",
    "import numpy as np\n",
    "df = pd.read_csv(\"Train_B_Tree.csv\")"
   ]
  },
  {
   "cell_type": "code",
   "execution_count": 5,
   "metadata": {},
   "outputs": [],
   "source": [
    "class Node:\n",
    "    def __repr__(self):\n",
    "        return \"<Node Object with attribute \"+str(self.attr)+\" and bound \"+str(self.bound)+\" and decision \"+str(self.decision)+\">\"\n",
    "    def __init__(self, *args, **kwargs):\n",
    "        try:\n",
    "            self.parent = kwargs['parent']\n",
    "        except:\n",
    "            self.parent = None\n",
    "        try:\n",
    "            self.left = kwargs['left']\n",
    "        except:\n",
    "            self.left = None\n",
    "        try:\n",
    "            self.right = kwargs['right']\n",
    "        except:\n",
    "            self.right = None\n",
    "        try:\n",
    "            self.decision = kwargs['decision']\n",
    "        except:\n",
    "            self.decision = None\n",
    "        try:\n",
    "            self.attr = kwargs['attr']\n",
    "        except:\n",
    "            self.attr = None\n",
    "        try:\n",
    "            self.bound = kwargs['bound']\n",
    "        except:\n",
    "            self.bound = None"
   ]
  },
  {
   "cell_type": "code",
   "execution_count": 6,
   "metadata": {},
   "outputs": [],
   "source": [
    "def regressiontree(df):\n",
    "    train=df.sample(frac=0.7) #random state is a seed value\n",
    "    test=df.drop(train.index)\n",
    "    list_attr = train.columns.to_numpy()[:-1].tolist()\n",
    "    NodeList=[]\n",
    "    root = Node()\n",
    "    split(train, root, 'left', list_attr, NodeList)\n",
    "    sqerr = 0\n",
    "    for i in train.index:\n",
    "        start = root.left\n",
    "        #print(type(start))\n",
    "        try:\n",
    "            while(not start.decision):\n",
    "                if(train[start.attr][i]<=start.bound):\n",
    "                    start = start.left\n",
    "                if(train[start.attr][i]>start.bound):\n",
    "                    start = start.right\n",
    "        except:\n",
    "            #print(start)\n",
    "            pass\n",
    "        e_val = start.decision - train['csMPa'][i]\n",
    "        #print(e_val)\n",
    "        sqerr = sqerr + e_val**2\n",
    "    print(sqerr)\n",
    "    return\n"
   ]
  },
  {
   "cell_type": "code",
   "execution_count": 7,
   "metadata": {},
   "outputs": [],
   "source": [
    "def LS_ERROR(train, list_attr):\n",
    "    input_train = train[list_attr]\n",
    "    if(len(input_train.drop_duplicates())<=1):\n",
    "        return 0\n",
    "    else:\n",
    "        #t = type(train['csMPa'][0])\n",
    "        m = train['csMPa'].mean()\n",
    "        ERROR = 0\n",
    "        #print(len(train))\n",
    "        for i in train.index:\n",
    "            t=type(i)\n",
    "            ERROR = ERROR + (train['csMPa'][i] - m)**2\n",
    "        return ERROR"
   ]
  },
  {
   "cell_type": "code",
   "execution_count": 8,
   "metadata": {},
   "outputs": [],
   "source": [
    "def WEIGHTED_LS(left, right, list_attr):\n",
    "    lls = LS_ERROR(left, list_attr)\n",
    "    rls = LS_ERROR(right, list_attr)\n",
    "    return (lls*len(left) + rls*len(right))"
   ]
  },
  {
   "cell_type": "code",
   "execution_count": 9,
   "metadata": {},
   "outputs": [],
   "source": [
    "def split(root_train, parent, side, list_attr, NodeList):\n",
    "    root_train = root_train.iloc[:, np.random.permutation(len(root_train.columns))]\n",
    "    a = Node(parent=parent)\n",
    "    if(side == 'left'):\n",
    "        parent.left = a\n",
    "    else:\n",
    "        parent.right = a\n",
    "    NodeList.append(a)\n",
    "    input_train = root_train[list_attr]\n",
    "    if(LS_ERROR(root_train, list_attr) == 0):\n",
    "        a.decision = root_train['csMPa'].mean()\n",
    "        return\n",
    "    MIN_LS_ERROR = np.inf\n",
    "    for attribute in list_attr:\n",
    "        valid_set = root_train[attribute].unique().tolist()\n",
    "        valid_set.sort()\n",
    "        if(len(valid_set)>=2):\n",
    "            for i in valid_set[:-1]:\n",
    "                left_temp = root_train[root_train[attribute]<=i]\n",
    "                right_temp = root_train[root_train[attribute]>i]\n",
    "                LS = WEIGHTED_LS(left_temp, right_temp, list_attr)\n",
    "                if(LS<MIN_LS_ERROR):\n",
    "                    #print(LS[0])\n",
    "                    left = left_temp\n",
    "                    right = right_temp\n",
    "                    attr = attribute\n",
    "                    bound = i\n",
    "                    MIN_LS_ERROR = LS\n",
    "    #print(MIN_LS_ERROR, attr, bound)\n",
    "    a.attr = attr\n",
    "    a.bound = bound\n",
    "    split(left, a, 'left', list_attr, NodeList)\n",
    "    split(right, a, 'right', list_attr, NodeList)\n",
    "    return"
   ]
  },
  {
   "cell_type": "code",
   "execution_count": 10,
   "metadata": {},
   "outputs": [
    {
     "name": "stdout",
     "output_type": "stream",
     "text": [
      "14484.935749999993\n"
     ]
    },
    {
     "ename": "KeyboardInterrupt",
     "evalue": "",
     "output_type": "error",
     "traceback": [
      "\u001b[0;31m---------------------------------------------------------------------------\u001b[0m",
      "\u001b[0;31mKeyboardInterrupt\u001b[0m                         Traceback (most recent call last)",
      "\u001b[1;32m/home/aritramitra/Documents/Sem 5/ML/ass1/ML-Assignment-1/Assgn_1/q1.ipynb Cell 7\u001b[0m in \u001b[0;36m<cell line: 2>\u001b[0;34m()\u001b[0m\n\u001b[1;32m      <a href='vscode-notebook-cell:/home/aritramitra/Documents/Sem%205/ML/ass1/ML-Assignment-1/Assgn_1/q1.ipynb#W6sZmlsZQ%3D%3D?line=1'>2</a>\u001b[0m \u001b[39mif\u001b[39;00m \u001b[39m__name__\u001b[39m \u001b[39m==\u001b[39m \u001b[39m\"\u001b[39m\u001b[39m__main__\u001b[39m\u001b[39m\"\u001b[39m:\n\u001b[1;32m      <a href='vscode-notebook-cell:/home/aritramitra/Documents/Sem%205/ML/ass1/ML-Assignment-1/Assgn_1/q1.ipynb#W6sZmlsZQ%3D%3D?line=2'>3</a>\u001b[0m     \u001b[39mfor\u001b[39;00m i \u001b[39min\u001b[39;00m \u001b[39mrange\u001b[39m(\u001b[39m10\u001b[39m):\n\u001b[0;32m----> <a href='vscode-notebook-cell:/home/aritramitra/Documents/Sem%205/ML/ass1/ML-Assignment-1/Assgn_1/q1.ipynb#W6sZmlsZQ%3D%3D?line=3'>4</a>\u001b[0m         regressiontree(df)\n",
      "\u001b[1;32m/home/aritramitra/Documents/Sem 5/ML/ass1/ML-Assignment-1/Assgn_1/q1.ipynb Cell 7\u001b[0m in \u001b[0;36mregressiontree\u001b[0;34m(df)\u001b[0m\n\u001b[1;32m      <a href='vscode-notebook-cell:/home/aritramitra/Documents/Sem%205/ML/ass1/ML-Assignment-1/Assgn_1/q1.ipynb#W6sZmlsZQ%3D%3D?line=4'>5</a>\u001b[0m NodeList\u001b[39m=\u001b[39m[]\n\u001b[1;32m      <a href='vscode-notebook-cell:/home/aritramitra/Documents/Sem%205/ML/ass1/ML-Assignment-1/Assgn_1/q1.ipynb#W6sZmlsZQ%3D%3D?line=5'>6</a>\u001b[0m root \u001b[39m=\u001b[39m Node()\n\u001b[0;32m----> <a href='vscode-notebook-cell:/home/aritramitra/Documents/Sem%205/ML/ass1/ML-Assignment-1/Assgn_1/q1.ipynb#W6sZmlsZQ%3D%3D?line=6'>7</a>\u001b[0m split(train, root, \u001b[39m'\u001b[39;49m\u001b[39mleft\u001b[39;49m\u001b[39m'\u001b[39;49m, list_attr, NodeList)\n\u001b[1;32m      <a href='vscode-notebook-cell:/home/aritramitra/Documents/Sem%205/ML/ass1/ML-Assignment-1/Assgn_1/q1.ipynb#W6sZmlsZQ%3D%3D?line=7'>8</a>\u001b[0m sqerr \u001b[39m=\u001b[39m \u001b[39m0\u001b[39m\n\u001b[1;32m      <a href='vscode-notebook-cell:/home/aritramitra/Documents/Sem%205/ML/ass1/ML-Assignment-1/Assgn_1/q1.ipynb#W6sZmlsZQ%3D%3D?line=8'>9</a>\u001b[0m \u001b[39mfor\u001b[39;00m i \u001b[39min\u001b[39;00m test\u001b[39m.\u001b[39mindex:\n",
      "\u001b[1;32m/home/aritramitra/Documents/Sem 5/ML/ass1/ML-Assignment-1/Assgn_1/q1.ipynb Cell 7\u001b[0m in \u001b[0;36msplit\u001b[0;34m(root_train, parent, side, list_attr, NodeList)\u001b[0m\n\u001b[1;32m     <a href='vscode-notebook-cell:/home/aritramitra/Documents/Sem%205/ML/ass1/ML-Assignment-1/Assgn_1/q1.ipynb#W6sZmlsZQ%3D%3D?line=29'>30</a>\u001b[0m a\u001b[39m.\u001b[39mattr \u001b[39m=\u001b[39m attr\n\u001b[1;32m     <a href='vscode-notebook-cell:/home/aritramitra/Documents/Sem%205/ML/ass1/ML-Assignment-1/Assgn_1/q1.ipynb#W6sZmlsZQ%3D%3D?line=30'>31</a>\u001b[0m a\u001b[39m.\u001b[39mbound \u001b[39m=\u001b[39m bound\n\u001b[0;32m---> <a href='vscode-notebook-cell:/home/aritramitra/Documents/Sem%205/ML/ass1/ML-Assignment-1/Assgn_1/q1.ipynb#W6sZmlsZQ%3D%3D?line=31'>32</a>\u001b[0m split(left, a, \u001b[39m'\u001b[39;49m\u001b[39mleft\u001b[39;49m\u001b[39m'\u001b[39;49m, list_attr, NodeList)\n\u001b[1;32m     <a href='vscode-notebook-cell:/home/aritramitra/Documents/Sem%205/ML/ass1/ML-Assignment-1/Assgn_1/q1.ipynb#W6sZmlsZQ%3D%3D?line=32'>33</a>\u001b[0m split(right, a, \u001b[39m'\u001b[39m\u001b[39mright\u001b[39m\u001b[39m'\u001b[39m, list_attr, NodeList)\n\u001b[1;32m     <a href='vscode-notebook-cell:/home/aritramitra/Documents/Sem%205/ML/ass1/ML-Assignment-1/Assgn_1/q1.ipynb#W6sZmlsZQ%3D%3D?line=33'>34</a>\u001b[0m \u001b[39mreturn\u001b[39;00m\n",
      "\u001b[1;32m/home/aritramitra/Documents/Sem 5/ML/ass1/ML-Assignment-1/Assgn_1/q1.ipynb Cell 7\u001b[0m in \u001b[0;36msplit\u001b[0;34m(root_train, parent, side, list_attr, NodeList)\u001b[0m\n\u001b[1;32m     <a href='vscode-notebook-cell:/home/aritramitra/Documents/Sem%205/ML/ass1/ML-Assignment-1/Assgn_1/q1.ipynb#W6sZmlsZQ%3D%3D?line=30'>31</a>\u001b[0m a\u001b[39m.\u001b[39mbound \u001b[39m=\u001b[39m bound\n\u001b[1;32m     <a href='vscode-notebook-cell:/home/aritramitra/Documents/Sem%205/ML/ass1/ML-Assignment-1/Assgn_1/q1.ipynb#W6sZmlsZQ%3D%3D?line=31'>32</a>\u001b[0m split(left, a, \u001b[39m'\u001b[39m\u001b[39mleft\u001b[39m\u001b[39m'\u001b[39m, list_attr, NodeList)\n\u001b[0;32m---> <a href='vscode-notebook-cell:/home/aritramitra/Documents/Sem%205/ML/ass1/ML-Assignment-1/Assgn_1/q1.ipynb#W6sZmlsZQ%3D%3D?line=32'>33</a>\u001b[0m split(right, a, \u001b[39m'\u001b[39;49m\u001b[39mright\u001b[39;49m\u001b[39m'\u001b[39;49m, list_attr, NodeList)\n\u001b[1;32m     <a href='vscode-notebook-cell:/home/aritramitra/Documents/Sem%205/ML/ass1/ML-Assignment-1/Assgn_1/q1.ipynb#W6sZmlsZQ%3D%3D?line=33'>34</a>\u001b[0m \u001b[39mreturn\u001b[39;00m\n",
      "\u001b[1;32m/home/aritramitra/Documents/Sem 5/ML/ass1/ML-Assignment-1/Assgn_1/q1.ipynb Cell 7\u001b[0m in \u001b[0;36msplit\u001b[0;34m(root_train, parent, side, list_attr, NodeList)\u001b[0m\n\u001b[1;32m     <a href='vscode-notebook-cell:/home/aritramitra/Documents/Sem%205/ML/ass1/ML-Assignment-1/Assgn_1/q1.ipynb#W6sZmlsZQ%3D%3D?line=29'>30</a>\u001b[0m a\u001b[39m.\u001b[39mattr \u001b[39m=\u001b[39m attr\n\u001b[1;32m     <a href='vscode-notebook-cell:/home/aritramitra/Documents/Sem%205/ML/ass1/ML-Assignment-1/Assgn_1/q1.ipynb#W6sZmlsZQ%3D%3D?line=30'>31</a>\u001b[0m a\u001b[39m.\u001b[39mbound \u001b[39m=\u001b[39m bound\n\u001b[0;32m---> <a href='vscode-notebook-cell:/home/aritramitra/Documents/Sem%205/ML/ass1/ML-Assignment-1/Assgn_1/q1.ipynb#W6sZmlsZQ%3D%3D?line=31'>32</a>\u001b[0m split(left, a, \u001b[39m'\u001b[39;49m\u001b[39mleft\u001b[39;49m\u001b[39m'\u001b[39;49m, list_attr, NodeList)\n\u001b[1;32m     <a href='vscode-notebook-cell:/home/aritramitra/Documents/Sem%205/ML/ass1/ML-Assignment-1/Assgn_1/q1.ipynb#W6sZmlsZQ%3D%3D?line=32'>33</a>\u001b[0m split(right, a, \u001b[39m'\u001b[39m\u001b[39mright\u001b[39m\u001b[39m'\u001b[39m, list_attr, NodeList)\n\u001b[1;32m     <a href='vscode-notebook-cell:/home/aritramitra/Documents/Sem%205/ML/ass1/ML-Assignment-1/Assgn_1/q1.ipynb#W6sZmlsZQ%3D%3D?line=33'>34</a>\u001b[0m \u001b[39mreturn\u001b[39;00m\n",
      "\u001b[1;32m/home/aritramitra/Documents/Sem 5/ML/ass1/ML-Assignment-1/Assgn_1/q1.ipynb Cell 7\u001b[0m in \u001b[0;36msplit\u001b[0;34m(root_train, parent, side, list_attr, NodeList)\u001b[0m\n\u001b[1;32m     <a href='vscode-notebook-cell:/home/aritramitra/Documents/Sem%205/ML/ass1/ML-Assignment-1/Assgn_1/q1.ipynb#W6sZmlsZQ%3D%3D?line=30'>31</a>\u001b[0m a\u001b[39m.\u001b[39mbound \u001b[39m=\u001b[39m bound\n\u001b[1;32m     <a href='vscode-notebook-cell:/home/aritramitra/Documents/Sem%205/ML/ass1/ML-Assignment-1/Assgn_1/q1.ipynb#W6sZmlsZQ%3D%3D?line=31'>32</a>\u001b[0m split(left, a, \u001b[39m'\u001b[39m\u001b[39mleft\u001b[39m\u001b[39m'\u001b[39m, list_attr, NodeList)\n\u001b[0;32m---> <a href='vscode-notebook-cell:/home/aritramitra/Documents/Sem%205/ML/ass1/ML-Assignment-1/Assgn_1/q1.ipynb#W6sZmlsZQ%3D%3D?line=32'>33</a>\u001b[0m split(right, a, \u001b[39m'\u001b[39;49m\u001b[39mright\u001b[39;49m\u001b[39m'\u001b[39;49m, list_attr, NodeList)\n\u001b[1;32m     <a href='vscode-notebook-cell:/home/aritramitra/Documents/Sem%205/ML/ass1/ML-Assignment-1/Assgn_1/q1.ipynb#W6sZmlsZQ%3D%3D?line=33'>34</a>\u001b[0m \u001b[39mreturn\u001b[39;00m\n",
      "\u001b[1;32m/home/aritramitra/Documents/Sem 5/ML/ass1/ML-Assignment-1/Assgn_1/q1.ipynb Cell 7\u001b[0m in \u001b[0;36msplit\u001b[0;34m(root_train, parent, side, list_attr, NodeList)\u001b[0m\n\u001b[1;32m     <a href='vscode-notebook-cell:/home/aritramitra/Documents/Sem%205/ML/ass1/ML-Assignment-1/Assgn_1/q1.ipynb#W6sZmlsZQ%3D%3D?line=18'>19</a>\u001b[0m left_temp \u001b[39m=\u001b[39m root_train[root_train[attribute]\u001b[39m<\u001b[39m\u001b[39m=\u001b[39mi]\n\u001b[1;32m     <a href='vscode-notebook-cell:/home/aritramitra/Documents/Sem%205/ML/ass1/ML-Assignment-1/Assgn_1/q1.ipynb#W6sZmlsZQ%3D%3D?line=19'>20</a>\u001b[0m right_temp \u001b[39m=\u001b[39m root_train[root_train[attribute]\u001b[39m>\u001b[39mi]\n\u001b[0;32m---> <a href='vscode-notebook-cell:/home/aritramitra/Documents/Sem%205/ML/ass1/ML-Assignment-1/Assgn_1/q1.ipynb#W6sZmlsZQ%3D%3D?line=20'>21</a>\u001b[0m LS \u001b[39m=\u001b[39m WEIGHTED_LS(left_temp, right_temp, list_attr)\n\u001b[1;32m     <a href='vscode-notebook-cell:/home/aritramitra/Documents/Sem%205/ML/ass1/ML-Assignment-1/Assgn_1/q1.ipynb#W6sZmlsZQ%3D%3D?line=21'>22</a>\u001b[0m \u001b[39mif\u001b[39;00m(LS\u001b[39m<\u001b[39mMIN_LS_ERROR):\n\u001b[1;32m     <a href='vscode-notebook-cell:/home/aritramitra/Documents/Sem%205/ML/ass1/ML-Assignment-1/Assgn_1/q1.ipynb#W6sZmlsZQ%3D%3D?line=22'>23</a>\u001b[0m     \u001b[39m#print(LS[0])\u001b[39;00m\n\u001b[1;32m     <a href='vscode-notebook-cell:/home/aritramitra/Documents/Sem%205/ML/ass1/ML-Assignment-1/Assgn_1/q1.ipynb#W6sZmlsZQ%3D%3D?line=23'>24</a>\u001b[0m     left \u001b[39m=\u001b[39m left_temp\n",
      "\u001b[1;32m/home/aritramitra/Documents/Sem 5/ML/ass1/ML-Assignment-1/Assgn_1/q1.ipynb Cell 7\u001b[0m in \u001b[0;36mWEIGHTED_LS\u001b[0;34m(left, right, list_attr)\u001b[0m\n\u001b[1;32m      <a href='vscode-notebook-cell:/home/aritramitra/Documents/Sem%205/ML/ass1/ML-Assignment-1/Assgn_1/q1.ipynb#W6sZmlsZQ%3D%3D?line=0'>1</a>\u001b[0m \u001b[39mdef\u001b[39;00m \u001b[39mWEIGHTED_LS\u001b[39m(left, right, list_attr):\n\u001b[0;32m----> <a href='vscode-notebook-cell:/home/aritramitra/Documents/Sem%205/ML/ass1/ML-Assignment-1/Assgn_1/q1.ipynb#W6sZmlsZQ%3D%3D?line=1'>2</a>\u001b[0m     lls \u001b[39m=\u001b[39m LS_ERROR(left, list_attr)\n\u001b[1;32m      <a href='vscode-notebook-cell:/home/aritramitra/Documents/Sem%205/ML/ass1/ML-Assignment-1/Assgn_1/q1.ipynb#W6sZmlsZQ%3D%3D?line=2'>3</a>\u001b[0m     rls \u001b[39m=\u001b[39m LS_ERROR(right, list_attr)\n\u001b[1;32m      <a href='vscode-notebook-cell:/home/aritramitra/Documents/Sem%205/ML/ass1/ML-Assignment-1/Assgn_1/q1.ipynb#W6sZmlsZQ%3D%3D?line=3'>4</a>\u001b[0m     \u001b[39mreturn\u001b[39;00m (lls\u001b[39m*\u001b[39m\u001b[39mlen\u001b[39m(left) \u001b[39m+\u001b[39m rls\u001b[39m*\u001b[39m\u001b[39mlen\u001b[39m(right))\n",
      "\u001b[1;32m/home/aritramitra/Documents/Sem 5/ML/ass1/ML-Assignment-1/Assgn_1/q1.ipynb Cell 7\u001b[0m in \u001b[0;36mLS_ERROR\u001b[0;34m(train, list_attr)\u001b[0m\n\u001b[1;32m      <a href='vscode-notebook-cell:/home/aritramitra/Documents/Sem%205/ML/ass1/ML-Assignment-1/Assgn_1/q1.ipynb#W6sZmlsZQ%3D%3D?line=0'>1</a>\u001b[0m \u001b[39mdef\u001b[39;00m \u001b[39mLS_ERROR\u001b[39m(train, list_attr):\n\u001b[1;32m      <a href='vscode-notebook-cell:/home/aritramitra/Documents/Sem%205/ML/ass1/ML-Assignment-1/Assgn_1/q1.ipynb#W6sZmlsZQ%3D%3D?line=1'>2</a>\u001b[0m     input_train \u001b[39m=\u001b[39m train[list_attr]\n\u001b[0;32m----> <a href='vscode-notebook-cell:/home/aritramitra/Documents/Sem%205/ML/ass1/ML-Assignment-1/Assgn_1/q1.ipynb#W6sZmlsZQ%3D%3D?line=2'>3</a>\u001b[0m     \u001b[39mif\u001b[39;00m(\u001b[39mlen\u001b[39m(input_train\u001b[39m.\u001b[39;49mdrop_duplicates())\u001b[39m<\u001b[39m\u001b[39m=\u001b[39m\u001b[39m1\u001b[39m):\n\u001b[1;32m      <a href='vscode-notebook-cell:/home/aritramitra/Documents/Sem%205/ML/ass1/ML-Assignment-1/Assgn_1/q1.ipynb#W6sZmlsZQ%3D%3D?line=3'>4</a>\u001b[0m         \u001b[39mreturn\u001b[39;00m \u001b[39m0\u001b[39m\n\u001b[1;32m      <a href='vscode-notebook-cell:/home/aritramitra/Documents/Sem%205/ML/ass1/ML-Assignment-1/Assgn_1/q1.ipynb#W6sZmlsZQ%3D%3D?line=4'>5</a>\u001b[0m     \u001b[39melse\u001b[39;00m:\n\u001b[1;32m      <a href='vscode-notebook-cell:/home/aritramitra/Documents/Sem%205/ML/ass1/ML-Assignment-1/Assgn_1/q1.ipynb#W6sZmlsZQ%3D%3D?line=5'>6</a>\u001b[0m         \u001b[39m#t = type(train['csMPa'][0])\u001b[39;00m\n",
      "File \u001b[0;32m~/.local/lib/python3.10/site-packages/pandas/util/_decorators.py:311\u001b[0m, in \u001b[0;36mdeprecate_nonkeyword_arguments.<locals>.decorate.<locals>.wrapper\u001b[0;34m(*args, **kwargs)\u001b[0m\n\u001b[1;32m    305\u001b[0m \u001b[39mif\u001b[39;00m \u001b[39mlen\u001b[39m(args) \u001b[39m>\u001b[39m num_allow_args:\n\u001b[1;32m    306\u001b[0m     warnings\u001b[39m.\u001b[39mwarn(\n\u001b[1;32m    307\u001b[0m         msg\u001b[39m.\u001b[39mformat(arguments\u001b[39m=\u001b[39marguments),\n\u001b[1;32m    308\u001b[0m         \u001b[39mFutureWarning\u001b[39;00m,\n\u001b[1;32m    309\u001b[0m         stacklevel\u001b[39m=\u001b[39mstacklevel,\n\u001b[1;32m    310\u001b[0m     )\n\u001b[0;32m--> 311\u001b[0m \u001b[39mreturn\u001b[39;00m func(\u001b[39m*\u001b[39;49margs, \u001b[39m*\u001b[39;49m\u001b[39m*\u001b[39;49mkwargs)\n",
      "File \u001b[0;32m~/.local/lib/python3.10/site-packages/pandas/core/frame.py:6116\u001b[0m, in \u001b[0;36mDataFrame.drop_duplicates\u001b[0;34m(self, subset, keep, inplace, ignore_index)\u001b[0m\n\u001b[1;32m   6114\u001b[0m inplace \u001b[39m=\u001b[39m validate_bool_kwarg(inplace, \u001b[39m\"\u001b[39m\u001b[39minplace\u001b[39m\u001b[39m\"\u001b[39m)\n\u001b[1;32m   6115\u001b[0m ignore_index \u001b[39m=\u001b[39m validate_bool_kwarg(ignore_index, \u001b[39m\"\u001b[39m\u001b[39mignore_index\u001b[39m\u001b[39m\"\u001b[39m)\n\u001b[0;32m-> 6116\u001b[0m duplicated \u001b[39m=\u001b[39m \u001b[39mself\u001b[39;49m\u001b[39m.\u001b[39;49mduplicated(subset, keep\u001b[39m=\u001b[39;49mkeep)\n\u001b[1;32m   6118\u001b[0m result \u001b[39m=\u001b[39m \u001b[39mself\u001b[39m[\u001b[39m-\u001b[39mduplicated]\n\u001b[1;32m   6119\u001b[0m \u001b[39mif\u001b[39;00m ignore_index:\n",
      "File \u001b[0;32m~/.local/lib/python3.10/site-packages/pandas/core/frame.py:6255\u001b[0m, in \u001b[0;36mDataFrame.duplicated\u001b[0;34m(self, subset, keep)\u001b[0m\n\u001b[1;32m   6252\u001b[0m vals \u001b[39m=\u001b[39m (col\u001b[39m.\u001b[39mvalues \u001b[39mfor\u001b[39;00m name, col \u001b[39min\u001b[39;00m \u001b[39mself\u001b[39m\u001b[39m.\u001b[39mitems() \u001b[39mif\u001b[39;00m name \u001b[39min\u001b[39;00m subset)\n\u001b[1;32m   6253\u001b[0m labels, shape \u001b[39m=\u001b[39m \u001b[39mmap\u001b[39m(\u001b[39mlist\u001b[39m, \u001b[39mzip\u001b[39m(\u001b[39m*\u001b[39m\u001b[39mmap\u001b[39m(f, vals)))\n\u001b[0;32m-> 6255\u001b[0m ids \u001b[39m=\u001b[39m get_group_index(\n\u001b[1;32m   6256\u001b[0m     labels,\n\u001b[1;32m   6257\u001b[0m     \u001b[39m# error: Argument 1 to \"tuple\" has incompatible type \"List[_T]\";\u001b[39;49;00m\n\u001b[1;32m   6258\u001b[0m     \u001b[39m# expected \"Iterable[int]\"\u001b[39;49;00m\n\u001b[1;32m   6259\u001b[0m     \u001b[39mtuple\u001b[39;49m(shape),  \u001b[39m# type: ignore[arg-type]\u001b[39;49;00m\n\u001b[1;32m   6260\u001b[0m     sort\u001b[39m=\u001b[39;49m\u001b[39mFalse\u001b[39;49;00m,\n\u001b[1;32m   6261\u001b[0m     xnull\u001b[39m=\u001b[39;49m\u001b[39mFalse\u001b[39;49;00m,\n\u001b[1;32m   6262\u001b[0m )\n\u001b[1;32m   6263\u001b[0m result \u001b[39m=\u001b[39m \u001b[39mself\u001b[39m\u001b[39m.\u001b[39m_constructor_sliced(duplicated(ids, keep), index\u001b[39m=\u001b[39m\u001b[39mself\u001b[39m\u001b[39m.\u001b[39mindex)\n\u001b[1;32m   6264\u001b[0m \u001b[39mreturn\u001b[39;00m result\u001b[39m.\u001b[39m__finalize__(\u001b[39mself\u001b[39m, method\u001b[39m=\u001b[39m\u001b[39m\"\u001b[39m\u001b[39mduplicated\u001b[39m\u001b[39m\"\u001b[39m)\n",
      "File \u001b[0;32m~/.local/lib/python3.10/site-packages/pandas/core/sorting.py:152\u001b[0m, in \u001b[0;36mget_group_index\u001b[0;34m(labels, shape, sort, xnull)\u001b[0m\n\u001b[1;32m    150\u001b[0m \u001b[39mif\u001b[39;00m \u001b[39mnot\u001b[39;00m xnull:\n\u001b[1;32m    151\u001b[0m     \u001b[39mfor\u001b[39;00m i, (lab, size) \u001b[39min\u001b[39;00m \u001b[39menumerate\u001b[39m(\u001b[39mzip\u001b[39m(labels, shape)):\n\u001b[0;32m--> 152\u001b[0m         lab, size \u001b[39m=\u001b[39m maybe_lift(lab, size)\n\u001b[1;32m    153\u001b[0m         labels[i] \u001b[39m=\u001b[39m lab\n\u001b[1;32m    154\u001b[0m         lshape[i] \u001b[39m=\u001b[39m size\n",
      "File \u001b[0;32m~/.local/lib/python3.10/site-packages/pandas/core/sorting.py:146\u001b[0m, in \u001b[0;36mget_group_index.<locals>.maybe_lift\u001b[0;34m(lab, size)\u001b[0m\n\u001b[1;32m    143\u001b[0m \u001b[39mdef\u001b[39;00m \u001b[39mmaybe_lift\u001b[39m(lab, size) \u001b[39m-\u001b[39m\u001b[39m>\u001b[39m \u001b[39mtuple\u001b[39m[np\u001b[39m.\u001b[39mndarray, \u001b[39mint\u001b[39m]:\n\u001b[1;32m    144\u001b[0m     \u001b[39m# promote nan values (assigned -1 label in lab array)\u001b[39;00m\n\u001b[1;32m    145\u001b[0m     \u001b[39m# so that all output values are non-negative\u001b[39;00m\n\u001b[0;32m--> 146\u001b[0m     \u001b[39mreturn\u001b[39;00m (lab \u001b[39m+\u001b[39m \u001b[39m1\u001b[39m, size \u001b[39m+\u001b[39m \u001b[39m1\u001b[39m) \u001b[39mif\u001b[39;00m (lab \u001b[39m==\u001b[39;49m \u001b[39m-\u001b[39;49m\u001b[39m1\u001b[39;49m)\u001b[39m.\u001b[39;49many() \u001b[39melse\u001b[39;00m (lab, size)\n",
      "File \u001b[0;32m~/.local/lib/python3.10/site-packages/numpy/core/_methods.py:57\u001b[0m, in \u001b[0;36m_any\u001b[0;34m(a, axis, dtype, out, keepdims, where)\u001b[0m\n\u001b[1;32m     54\u001b[0m \u001b[39mdef\u001b[39;00m \u001b[39m_any\u001b[39m(a, axis\u001b[39m=\u001b[39m\u001b[39mNone\u001b[39;00m, dtype\u001b[39m=\u001b[39m\u001b[39mNone\u001b[39;00m, out\u001b[39m=\u001b[39m\u001b[39mNone\u001b[39;00m, keepdims\u001b[39m=\u001b[39m\u001b[39mFalse\u001b[39;00m, \u001b[39m*\u001b[39m, where\u001b[39m=\u001b[39m\u001b[39mTrue\u001b[39;00m):\n\u001b[1;32m     55\u001b[0m     \u001b[39m# Parsing keyword arguments is currently fairly slow, so avoid it for now\u001b[39;00m\n\u001b[1;32m     56\u001b[0m     \u001b[39mif\u001b[39;00m where \u001b[39mis\u001b[39;00m \u001b[39mTrue\u001b[39;00m:\n\u001b[0;32m---> 57\u001b[0m         \u001b[39mreturn\u001b[39;00m umr_any(a, axis, dtype, out, keepdims)\n\u001b[1;32m     58\u001b[0m     \u001b[39mreturn\u001b[39;00m umr_any(a, axis, dtype, out, keepdims, where\u001b[39m=\u001b[39mwhere)\n",
      "\u001b[0;31mKeyboardInterrupt\u001b[0m: "
     ]
    }
   ],
   "source": [
    "#print(df[df['age']<=3])\n",
    "if __name__ == \"__main__\":\n",
    "    for i in range(10):\n",
    "        regressiontree(df)\n",
    "        \n",
    "    "
   ]
  }
 ],
 "metadata": {
  "kernelspec": {
   "display_name": "Python 3.10.6 64-bit",
   "language": "python",
   "name": "python3"
  },
  "language_info": {
   "codemirror_mode": {
    "name": "ipython",
    "version": 3
   },
   "file_extension": ".py",
   "mimetype": "text/x-python",
   "name": "python",
   "nbconvert_exporter": "python",
   "pygments_lexer": "ipython3",
   "version": "3.10.6"
  },
  "vscode": {
   "interpreter": {
    "hash": "e7370f93d1d0cde622a1f8e1c04877d8463912d04d973331ad4851f04de6915a"
   }
  }
 },
 "nbformat": 4,
 "nbformat_minor": 2
}
