{
 "cells": [
  {
   "cell_type": "code",
   "execution_count": null,
   "metadata": {},
   "outputs": [],
   "source": [
    "import pandas as pd\n",
    "import numpy as np\n",
    "df = pd.read_csv(\"Train_B_Tree.csv\")"
   ]
  },
  {
   "cell_type": "code",
   "execution_count": null,
   "metadata": {},
   "outputs": [],
   "source": [
    "def regressiontree(df):\n",
    "    train=df.sample(frac=0.7) #random state is a seed value\n",
    "    test=df.drop(train.index)\n",
    "    root_train = train\n",
    "    P=[]\n",
    "    L=[]\n",
    "    R=[]\n",
    "    A=[]\n",
    "    B=[]\n",
    "    D=[]\n",
    "    split(root_train, P, L, R, A, B, D, len(P)-1)"
   ]
  },
  {
   "cell_type": "code",
   "execution_count": null,
   "metadata": {},
   "outputs": [],
   "source": [
    "def LS_ERROR(train, list_attr):\n",
    "    input_train = train[list_attr]\n",
    "    if(len(input_train.drop_duplicates())<=1):\n",
    "        return 0, 0\n",
    "    else:\n",
    "        m = train.iloc[:,-1].mean()\n",
    "        ERROR = 0\n",
    "        for i in range(len(train)):\n",
    "            ERROR = ERROR + (train.iloc[i,-1] - m)**2\n",
    "        return ERROR, len(input_train.drop_duplicates())"
   ]
  },
  {
   "cell_type": "code",
   "execution_count": null,
   "metadata": {},
   "outputs": [],
   "source": [
    "def WEIGHTED_LS(left, right, list_attr):\n",
    "    lls = LS_ERROR(left, list_attr)\n",
    "    rls = LS_ERROR(right, list_attr)\n",
    "    return (lls[0]*len(left) + rls[0]*len(right)), lls[1], rls[1] "
   ]
  },
  {
   "cell_type": "code",
   "execution_count": null,
   "metadata": {},
   "outputs": [],
   "source": [
    "def split(root_train, parent, left, right, attr, bound, decision, caller):\n",
    "    parent.append(caller)\n",
    "    list_attr = root_train.columns.to_numpy()[:-1].tolist()\n",
    "    if(LS_ERROR(root_train, list_attr)[0] == 0):\n",
    "        left.append(np.nan)\n",
    "        right.append(np.nan)\n",
    "        attr.append(np.nan)\n",
    "        bound.append(np.nan)\n",
    "        decision.append(root_train.iloc[:,-1].mean())\n",
    "        return\n",
    "    for attribute in list_attr:\n",
    "        MIN_LS_ERROR = np.inf\n",
    "        valid_set = root_train[attribute].unique().tolist()\n",
    "        valid_set.sort()\n",
    "        if(len(valid_set)>=2):\n",
    "            for i in valid_set[:-1]:\n",
    "                left_temp = root_train[root_train[attribute]<=i]\n",
    "                right_temp = root_train[root_train[attribute]>i]\n",
    "                LS = WEIGHTED_LS(left_temp, right_temp, list_attr)\n",
    "                if(LS[0]<MIN_LS_ERROR):\n",
    "                    lef = left_temp\n",
    "                    righ = right_temp\n",
    "                    att = attribute\n",
    "                    boun = i\n",
    "                    MIN_LS_ERROR = LS[0]\n",
    "                    mlls = LS[1]\n",
    "                    mrls = LS[2]\n",
    "                    sz = valid_set\n",
    "    print(MIN_LS_ERROR, att, boun, mlls, mrls, sz)\n",
    "    left.append(len(left))\n",
    "    attr.append(att)\n",
    "    bound.append(boun)\n",
    "    caller_id = len(parent)-1\n",
    "    split(lef, parent, left, right, attr, bound, decision, caller_id)\n",
    "    right.insert(min(caller_id,len(right)-1),len(right))\n",
    "    split(righ, parent, left, right, attr, bound, decision, caller_id)\n",
    "    return"
   ]
  },
  {
   "cell_type": "code",
   "execution_count": null,
   "metadata": {},
   "outputs": [],
   "source": [
    "#print(df[df['age']<=3])\n",
    "if __name__ == \"__main__\":\n",
    "    for i in range(1):\n",
    "        train=regressiontree(df)\n",
    "    "
   ]
  }
 ],
 "metadata": {
  "kernelspec": {
   "display_name": "Python 3.10.6 64-bit",
   "language": "python",
   "name": "python3"
  },
  "language_info": {
   "codemirror_mode": {
    "name": "ipython",
    "version": 3
   },
   "file_extension": ".py",
   "mimetype": "text/x-python",
   "name": "python",
   "nbconvert_exporter": "python",
   "pygments_lexer": "ipython3",
   "version": "3.10.6"
  },
  "vscode": {
   "interpreter": {
    "hash": "e7370f93d1d0cde622a1f8e1c04877d8463912d04d973331ad4851f04de6915a"
   }
  }
 },
 "nbformat": 4,
 "nbformat_minor": 2
}
